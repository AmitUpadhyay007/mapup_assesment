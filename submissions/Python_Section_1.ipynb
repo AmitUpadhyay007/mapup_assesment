{
 "cells": [
  {
   "cell_type": "markdown",
   "id": "df44e3de",
   "metadata": {},
   "source": [
    "## Question 1: Reverse List by N Elements"
   ]
  },
  {
   "cell_type": "code",
   "execution_count": 1,
   "id": "1265f1e1",
   "metadata": {},
   "outputs": [
    {
     "name": "stdout",
     "output_type": "stream",
     "text": [
      "[3, 2, 1, 6, 5, 4, 8, 7]\n"
     ]
    }
   ],
   "source": [
    "def reverse_in_groups(lst, n):\n",
    "    result = []\n",
    "    \n",
    "    for i in range(0, len(lst), n):\n",
    "        group = []\n",
    "        \n",
    "        for j in range(min(n, len(lst) - i)):\n",
    "            group.insert(0, lst[i + j])\n",
    "            \n",
    "        result.extend(group)\n",
    "    \n",
    "    return result\n",
    "\n",
    "lst = [1, 2, 3, 4, 5, 6, 7, 8]\n",
    "n = 3\n",
    "print(reverse_in_groups(lst, n))"
   ]
  },
  {
   "cell_type": "code",
   "execution_count": 2,
   "id": "a0f87261",
   "metadata": {},
   "outputs": [
    {
     "name": "stdout",
     "output_type": "stream",
     "text": [
      "[2, 1, 4, 3, 5]\n"
     ]
    }
   ],
   "source": [
    "lst = [1, 2, 3, 4, 5]\n",
    "n = 2\n",
    "print(reverse_in_groups(lst, n))"
   ]
  },
  {
   "cell_type": "code",
   "execution_count": 3,
   "id": "165da273",
   "metadata": {},
   "outputs": [
    {
     "name": "stdout",
     "output_type": "stream",
     "text": [
      "[40, 30, 20, 10, 70, 60, 50]\n"
     ]
    }
   ],
   "source": [
    "lst = [10, 20, 30, 40, 50, 60, 70]\n",
    "n = 4\n",
    "print(reverse_in_groups(lst, n))"
   ]
  },
  {
   "cell_type": "markdown",
   "id": "36d93445",
   "metadata": {},
   "source": [
    "## Question 2: Lists & Dictionaries"
   ]
  },
  {
   "cell_type": "code",
   "execution_count": 10,
   "id": "7d93fa9c",
   "metadata": {},
   "outputs": [
    {
     "data": {
      "text/plain": [
       "{3: ['bat', 'car', 'dog'], 4: ['bear'], 5: ['apple'], 8: ['elephant']}"
      ]
     },
     "execution_count": 10,
     "metadata": {},
     "output_type": "execute_result"
    }
   ],
   "source": [
    "length_dict = {}\n",
    "strings = [\"apple\", \"bat\", \"car\", \"elephant\", \"dog\", \"bear\"]\n",
    "\n",
    "for string in strings:\n",
    "    length = len(string)\n",
    "\n",
    "    if length in length_dict:\n",
    "        length_dict[length].append(string)\n",
    "    else:\n",
    "        length_dict[length] = [string]\n",
    "        \n",
    "dict(sorted(length_dict.items()))"
   ]
  },
  {
   "cell_type": "markdown",
   "id": "2f29c700",
   "metadata": {},
   "source": [
    "## Question 3: Flatten a Nested Dictionary"
   ]
  },
  {
   "cell_type": "code",
   "execution_count": 11,
   "id": "44483bc5",
   "metadata": {},
   "outputs": [
    {
     "name": "stdout",
     "output_type": "stream",
     "text": [
      "{'road.name': 'Highway 1', 'road.length': 350, 'road.sections[0].id': 1, 'road.sections[0].condition.pavement': 'good', 'road.sections[0].condition.traffic': 'moderate'}\n"
     ]
    }
   ],
   "source": [
    "def flatten_dict(d, parent_key='', sep='.'):\n",
    "    items = []\n",
    "\n",
    "    for k, v in d.items():\n",
    "        new_key = f\"{parent_key}{sep}{k}\" if parent_key else k\n",
    "\n",
    "        if isinstance(v, dict):\n",
    "            items.extend(flatten_dict(v, new_key, sep=sep).items())\n",
    "\n",
    "        elif isinstance(v, list):\n",
    "            for i, item in enumerate(v):\n",
    "                list_key = f\"{new_key}[{i}]\"\n",
    "                if isinstance(item, dict):\n",
    "                    items.extend(flatten_dict(item, list_key, sep=sep).items())\n",
    "                else:\n",
    "                    items.append((list_key, item))\n",
    "\n",
    "        else:\n",
    "            items.append((new_key, v))\n",
    "\n",
    "    return dict(items)\n",
    "\n",
    "nested_dict = {\n",
    "    \"road\": {\n",
    "        \"name\": \"Highway 1\",\n",
    "        \"length\": 350,\n",
    "        \"sections\": [\n",
    "            {\n",
    "                \"id\": 1,\n",
    "                \"condition\": {\n",
    "                    \"pavement\": \"good\",\n",
    "                    \"traffic\": \"moderate\"\n",
    "                }\n",
    "            }\n",
    "        ]\n",
    "    }\n",
    "}\n",
    "\n",
    "flattened_dict = flatten_dict(nested_dict)\n",
    "print(flattened_dict)\n"
   ]
  },
  {
   "cell_type": "markdown",
   "id": "95a0417d",
   "metadata": {},
   "source": [
    "## Question 4: Generate Unique Permutations"
   ]
  },
  {
   "cell_type": "code",
   "execution_count": 24,
   "id": "b0ca2c8b",
   "metadata": {},
   "outputs": [
    {
     "name": "stdout",
     "output_type": "stream",
     "text": [
      "[1, 1, 2]\n",
      "[1, 2, 1]\n",
      "[2, 1, 1]\n"
     ]
    }
   ],
   "source": [
    "from itertools import permutations\n",
    "def unique_permutations(lst):\n",
    "    all_permutations = permutations(lst)\n",
    "    unique_perms = list(set(all_permutations))\n",
    "    unique_perms.sort()\n",
    "    \n",
    "    return [list(perm) for perm in unique_perms]\n",
    "\n",
    "dj_list = [1, 1, 2]\n",
    "result = unique_permutations(dj_list)\n",
    "for perm in result:\n",
    "    print(perm)"
   ]
  },
  {
   "cell_type": "markdown",
   "id": "32181c9e",
   "metadata": {},
   "source": [
    "## Question 5: Find All Dates in a Text"
   ]
  },
  {
   "cell_type": "code",
   "execution_count": 14,
   "id": "88c67737",
   "metadata": {},
   "outputs": [
    {
     "name": "stdout",
     "output_type": "stream",
     "text": [
      "['23-08-1994', '08/23/1994', '1994.08.23']\n"
     ]
    }
   ],
   "source": [
    "import re\n",
    "\n",
    "def find_all_dates(text):\n",
    "    date_pattern = r'\\b\\d{2}-\\d{2}-\\d{4}\\b|\\b\\d{2}/\\d{2}/\\d{4}\\b|\\b\\d{4}\\.\\d{2}\\.\\d{2}\\b'\n",
    "    dates = re.findall(date_pattern, text)\n",
    "    \n",
    "    return dates\n",
    "\n",
    "text = \"I was born on 23-08-1994, my friend on 08/23/1994, and another one on 1994.08.23.\"\n",
    "print(find_all_dates(text))\n"
   ]
  },
  {
   "cell_type": "markdown",
   "id": "424ec6f9",
   "metadata": {},
   "source": [
    "## Question 6: Decode Polyline, Convert to DataFrame with Distances"
   ]
  },
  {
   "cell_type": "code",
   "execution_count": 16,
   "id": "a4ed1c82",
   "metadata": {},
   "outputs": [
    {
     "name": "stdout",
     "output_type": "stream",
     "text": [
      "Collecting polyline\n",
      "  Obtaining dependency information for polyline from https://files.pythonhosted.org/packages/d7/4f/fbf07370cbf98af0098de83a26625d29aaa0bf73ef7123b561459729f3e6/polyline-2.0.2-py3-none-any.whl.metadata\n",
      "  Downloading polyline-2.0.2-py3-none-any.whl.metadata (6.4 kB)\n",
      "Downloading polyline-2.0.2-py3-none-any.whl (6.0 kB)\n",
      "Installing collected packages: polyline\n",
      "Successfully installed polyline-2.0.2\n"
     ]
    }
   ],
   "source": [
    "!pip install polyline"
   ]
  },
  {
   "cell_type": "code",
   "execution_count": 21,
   "id": "60269609",
   "metadata": {},
   "outputs": [
    {
     "name": "stdout",
     "output_type": "stream",
     "text": [
      "   latitude  longitude       distance\n",
      "0  41.86639   -120.200       0.000000\n",
      "1  44.06639   -120.950  252122.397509\n",
      "2  46.61839   -126.453  515078.047668\n"
     ]
    }
   ],
   "source": [
    "import polyline\n",
    "import pandas as pd\n",
    "import math\n",
    "\n",
    "def haversine(lat1, lon1, lat2, lon2):\n",
    "    R = 6371000\n",
    "    phi1 = math.radians(lat1)\n",
    "    phi2 = math.radians(lat2)\n",
    "    delta_phi = math.radians(lat2 - lat1)\n",
    "    delta_lambda = math.radians(lon2 - lon1)\n",
    "\n",
    "    a = math.sin(delta_phi / 2) ** 2 + math.cos(phi1) * math.cos(phi2) * math.sin(delta_lambda / 2) ** 2\n",
    "    c = 2 * math.atan2(math.sqrt(a), math.sqrt(1 - a))\n",
    "\n",
    "    return R * c\n",
    "def decode_polyline_to_df(polyline_str):\n",
    "    coordinates = polyline.decode(polyline_str)\n",
    "\n",
    "    df = pd.DataFrame(coordinates, columns=['latitude', 'longitude'])\n",
    "    distances = [0]  \n",
    "    \n",
    "    for i in range(1, len(df)):\n",
    "        lat1, lon1 = df.iloc[i-1]['latitude'], df.iloc[i-1]['longitude']\n",
    "        lat2, lon2 = df.iloc[i]['latitude'], df.iloc[i]['longitude']\n",
    "        distance = haversine(lat1, lon1, lat2, lon2)\n",
    "        distances.append(distance)\n",
    "\n",
    "    df['distance'] = distances\n",
    "    \n",
    "    return df\n",
    "\n",
    "polyline_str = '}_p~F~ps|U_ulLnnqC_mqNvxq`@'\n",
    "df = decode_polyline_to_df(polyline_str)\n",
    "print(df)\n"
   ]
  },
  {
   "cell_type": "markdown",
   "id": "05c981d9",
   "metadata": {},
   "source": [
    "## Question 7: Matrix Rotation and Transformation"
   ]
  },
  {
   "cell_type": "code",
   "execution_count": 37,
   "id": "7b17d9e2",
   "metadata": {},
   "outputs": [
    {
     "name": "stdout",
     "output_type": "stream",
     "text": [
      "Rotated Matrix:\n",
      "[7, 4, 1]\n",
      "[8, 5, 2]\n",
      "[9, 6, 3]\n",
      "\n",
      "Final Transformed Matrix:\n",
      "[29, 23, 17]\n",
      "[31, 25, 19]\n",
      "[33, 27, 21]\n"
     ]
    }
   ],
   "source": [
    "# Original matrix\n",
    "matrix = [[1, 2, 3],\n",
    "          [4, 5, 6],\n",
    "          [7, 8, 9]]\n",
    "\n",
    "n = len(matrix)\n",
    "rotated_matrix = [[0] * n for _ in range(n)]  # Create an empty n x n matrix\n",
    "\n",
    "for i in range(n):\n",
    "    for j in range(n):\n",
    "        rotated_matrix[j][n - 1 - i] = matrix[i][j]\n",
    "\n",
    "final_matrix = [[0] * n for _ in range(n)]  # Initialize the transformed matrix\n",
    "\n",
    "for i in range(n):\n",
    "    for j in range(n):\n",
    "        row_sum = sum(rotated_matrix[i])  # Sum of the entire row\n",
    "        col_sum = sum(rotated_matrix[k][j] for k in range(n))  # Sum of the entire column\n",
    "        final_matrix[i][j] = row_sum + col_sum - rotated_matrix[i][j]  # Exclude the element itself\n",
    "\n",
    "print(\"Rotated Matrix:\")\n",
    "for row in rotated_matrix:\n",
    "    print(row)\n",
    "\n",
    "print(\"\\nFinal Transformed Matrix:\")\n",
    "for row in final_matrix:\n",
    "    print(row)\n"
   ]
  },
  {
   "cell_type": "markdown",
   "id": "661bd6b0",
   "metadata": {},
   "source": [
    "## Question 8: Time Check"
   ]
  },
  {
   "cell_type": "code",
   "execution_count": 51,
   "id": "af7a34d0",
   "metadata": {},
   "outputs": [
    {
     "data": {
      "text/html": [
       "<div>\n",
       "<style scoped>\n",
       "    .dataframe tbody tr th:only-of-type {\n",
       "        vertical-align: middle;\n",
       "    }\n",
       "\n",
       "    .dataframe tbody tr th {\n",
       "        vertical-align: top;\n",
       "    }\n",
       "\n",
       "    .dataframe thead th {\n",
       "        text-align: right;\n",
       "    }\n",
       "</style>\n",
       "<table border=\"1\" class=\"dataframe\">\n",
       "  <thead>\n",
       "    <tr style=\"text-align: right;\">\n",
       "      <th></th>\n",
       "      <th>id</th>\n",
       "      <th>name</th>\n",
       "      <th>id_2</th>\n",
       "      <th>startDay</th>\n",
       "      <th>startTime</th>\n",
       "      <th>endDay</th>\n",
       "      <th>endTime</th>\n",
       "      <th>able2Hov2</th>\n",
       "      <th>able2Hov3</th>\n",
       "      <th>able3Hov2</th>\n",
       "      <th>able3Hov3</th>\n",
       "      <th>able5Hov2</th>\n",
       "      <th>able5Hov3</th>\n",
       "      <th>able4Hov2</th>\n",
       "      <th>able4Hov3</th>\n",
       "    </tr>\n",
       "  </thead>\n",
       "  <tbody>\n",
       "    <tr>\n",
       "      <th>0</th>\n",
       "      <td>1040000</td>\n",
       "      <td>Montgomery</td>\n",
       "      <td>-1</td>\n",
       "      <td>Monday</td>\n",
       "      <td>05:00:00</td>\n",
       "      <td>Wednesday</td>\n",
       "      <td>10:00:00</td>\n",
       "      <td>3.0</td>\n",
       "      <td>3.0</td>\n",
       "      <td>-1.0</td>\n",
       "      <td>-1</td>\n",
       "      <td>3</td>\n",
       "      <td>3</td>\n",
       "      <td>3</td>\n",
       "      <td>3</td>\n",
       "    </tr>\n",
       "    <tr>\n",
       "      <th>1</th>\n",
       "      <td>1040010</td>\n",
       "      <td>Black</td>\n",
       "      <td>-1</td>\n",
       "      <td>Monday</td>\n",
       "      <td>10:00:00</td>\n",
       "      <td>Friday</td>\n",
       "      <td>15:00:00</td>\n",
       "      <td>6.0</td>\n",
       "      <td>6.0</td>\n",
       "      <td>-1.0</td>\n",
       "      <td>-1</td>\n",
       "      <td>6</td>\n",
       "      <td>6</td>\n",
       "      <td>6</td>\n",
       "      <td>6</td>\n",
       "    </tr>\n",
       "    <tr>\n",
       "      <th>2</th>\n",
       "      <td>1040020</td>\n",
       "      <td>Emerald</td>\n",
       "      <td>-1</td>\n",
       "      <td>Thursday</td>\n",
       "      <td>15:00:00</td>\n",
       "      <td>Friday</td>\n",
       "      <td>19:00:00</td>\n",
       "      <td>3.0</td>\n",
       "      <td>3.0</td>\n",
       "      <td>-1.0</td>\n",
       "      <td>-1</td>\n",
       "      <td>3</td>\n",
       "      <td>3</td>\n",
       "      <td>3</td>\n",
       "      <td>3</td>\n",
       "    </tr>\n",
       "    <tr>\n",
       "      <th>3</th>\n",
       "      <td>1040030</td>\n",
       "      <td>Foley</td>\n",
       "      <td>-1</td>\n",
       "      <td>Monday</td>\n",
       "      <td>19:00:00</td>\n",
       "      <td>Friday</td>\n",
       "      <td>23:59:59</td>\n",
       "      <td>6.0</td>\n",
       "      <td>6.0</td>\n",
       "      <td>-1.0</td>\n",
       "      <td>-1</td>\n",
       "      <td>6</td>\n",
       "      <td>6</td>\n",
       "      <td>6</td>\n",
       "      <td>6</td>\n",
       "    </tr>\n",
       "    <tr>\n",
       "      <th>4</th>\n",
       "      <td>1050000</td>\n",
       "      <td>Whittier</td>\n",
       "      <td>1050001</td>\n",
       "      <td>Saturday</td>\n",
       "      <td>00:00:00</td>\n",
       "      <td>Sunday</td>\n",
       "      <td>23:59:59</td>\n",
       "      <td>6.0</td>\n",
       "      <td>6.0</td>\n",
       "      <td>NaN</td>\n",
       "      <td>-1</td>\n",
       "      <td>6</td>\n",
       "      <td>6</td>\n",
       "      <td>6</td>\n",
       "      <td>6</td>\n",
       "    </tr>\n",
       "    <tr>\n",
       "      <th>...</th>\n",
       "      <td>...</td>\n",
       "      <td>...</td>\n",
       "      <td>...</td>\n",
       "      <td>...</td>\n",
       "      <td>...</td>\n",
       "      <td>...</td>\n",
       "      <td>...</td>\n",
       "      <td>...</td>\n",
       "      <td>...</td>\n",
       "      <td>...</td>\n",
       "      <td>...</td>\n",
       "      <td>...</td>\n",
       "      <td>...</td>\n",
       "      <td>...</td>\n",
       "      <td>...</td>\n",
       "    </tr>\n",
       "    <tr>\n",
       "      <th>39509</th>\n",
       "      <td>1031012</td>\n",
       "      <td>Baldwin</td>\n",
       "      <td>1031030</td>\n",
       "      <td>Monday</td>\n",
       "      <td>19:00:00</td>\n",
       "      <td>Friday</td>\n",
       "      <td>23:59:59</td>\n",
       "      <td>11.0</td>\n",
       "      <td>11.0</td>\n",
       "      <td>4.0</td>\n",
       "      <td>4</td>\n",
       "      <td>11</td>\n",
       "      <td>11</td>\n",
       "      <td>11</td>\n",
       "      <td>11</td>\n",
       "    </tr>\n",
       "    <tr>\n",
       "      <th>39510</th>\n",
       "      <td>1031012</td>\n",
       "      <td>Baldwin</td>\n",
       "      <td>1031032</td>\n",
       "      <td>Saturday</td>\n",
       "      <td>00:00:00</td>\n",
       "      <td>Sunday</td>\n",
       "      <td>23:59:59</td>\n",
       "      <td>11.0</td>\n",
       "      <td>11.0</td>\n",
       "      <td>4.0</td>\n",
       "      <td>4</td>\n",
       "      <td>11</td>\n",
       "      <td>11</td>\n",
       "      <td>11</td>\n",
       "      <td>11</td>\n",
       "    </tr>\n",
       "    <tr>\n",
       "      <th>39511</th>\n",
       "      <td>1031014</td>\n",
       "      <td>Thickson</td>\n",
       "      <td>1031016</td>\n",
       "      <td>Saturday</td>\n",
       "      <td>00:00:00</td>\n",
       "      <td>Sunday</td>\n",
       "      <td>23:59:59</td>\n",
       "      <td>11.0</td>\n",
       "      <td>11.0</td>\n",
       "      <td>4.0</td>\n",
       "      <td>4</td>\n",
       "      <td>11</td>\n",
       "      <td>11</td>\n",
       "      <td>11</td>\n",
       "      <td>11</td>\n",
       "    </tr>\n",
       "    <tr>\n",
       "      <th>39512</th>\n",
       "      <td>1031014</td>\n",
       "      <td>Thickson</td>\n",
       "      <td>1031018</td>\n",
       "      <td>Monday</td>\n",
       "      <td>05:00:00</td>\n",
       "      <td>Wednesday</td>\n",
       "      <td>10:00:00</td>\n",
       "      <td>8.0</td>\n",
       "      <td>8.0</td>\n",
       "      <td>4.0</td>\n",
       "      <td>4</td>\n",
       "      <td>8</td>\n",
       "      <td>8</td>\n",
       "      <td>8</td>\n",
       "      <td>8</td>\n",
       "    </tr>\n",
       "    <tr>\n",
       "      <th>39513</th>\n",
       "      <td>1031014</td>\n",
       "      <td>Thickson</td>\n",
       "      <td>1031020</td>\n",
       "      <td>Monday</td>\n",
       "      <td>10:00:00</td>\n",
       "      <td>Friday</td>\n",
       "      <td>15:00:00</td>\n",
       "      <td>11.0</td>\n",
       "      <td>11.0</td>\n",
       "      <td>4.0</td>\n",
       "      <td>4</td>\n",
       "      <td>11</td>\n",
       "      <td>11</td>\n",
       "      <td>11</td>\n",
       "      <td>11</td>\n",
       "    </tr>\n",
       "  </tbody>\n",
       "</table>\n",
       "<p>39514 rows × 15 columns</p>\n",
       "</div>"
      ],
      "text/plain": [
       "            id        name     id_2  startDay startTime     endDay   endTime  \\\n",
       "0      1040000  Montgomery       -1    Monday  05:00:00  Wednesday  10:00:00   \n",
       "1      1040010       Black       -1    Monday  10:00:00     Friday  15:00:00   \n",
       "2      1040020     Emerald       -1  Thursday  15:00:00     Friday  19:00:00   \n",
       "3      1040030       Foley       -1    Monday  19:00:00     Friday  23:59:59   \n",
       "4      1050000    Whittier  1050001  Saturday  00:00:00     Sunday  23:59:59   \n",
       "...        ...         ...      ...       ...       ...        ...       ...   \n",
       "39509  1031012     Baldwin  1031030    Monday  19:00:00     Friday  23:59:59   \n",
       "39510  1031012     Baldwin  1031032  Saturday  00:00:00     Sunday  23:59:59   \n",
       "39511  1031014    Thickson  1031016  Saturday  00:00:00     Sunday  23:59:59   \n",
       "39512  1031014    Thickson  1031018    Monday  05:00:00  Wednesday  10:00:00   \n",
       "39513  1031014    Thickson  1031020    Monday  10:00:00     Friday  15:00:00   \n",
       "\n",
       "       able2Hov2  able2Hov3  able3Hov2  able3Hov3  able5Hov2  able5Hov3  \\\n",
       "0            3.0        3.0       -1.0         -1          3          3   \n",
       "1            6.0        6.0       -1.0         -1          6          6   \n",
       "2            3.0        3.0       -1.0         -1          3          3   \n",
       "3            6.0        6.0       -1.0         -1          6          6   \n",
       "4            6.0        6.0        NaN         -1          6          6   \n",
       "...          ...        ...        ...        ...        ...        ...   \n",
       "39509       11.0       11.0        4.0          4         11         11   \n",
       "39510       11.0       11.0        4.0          4         11         11   \n",
       "39511       11.0       11.0        4.0          4         11         11   \n",
       "39512        8.0        8.0        4.0          4          8          8   \n",
       "39513       11.0       11.0        4.0          4         11         11   \n",
       "\n",
       "       able4Hov2  able4Hov3  \n",
       "0              3          3  \n",
       "1              6          6  \n",
       "2              3          3  \n",
       "3              6          6  \n",
       "4              6          6  \n",
       "...          ...        ...  \n",
       "39509         11         11  \n",
       "39510         11         11  \n",
       "39511         11         11  \n",
       "39512          8          8  \n",
       "39513         11         11  \n",
       "\n",
       "[39514 rows x 15 columns]"
      ]
     },
     "execution_count": 51,
     "metadata": {},
     "output_type": "execute_result"
    }
   ],
   "source": [
    "import pandas as pd\n",
    "\n",
    "df = pd.read_csv('dataset-1.csv')\n",
    "df"
   ]
  },
  {
   "cell_type": "code",
   "execution_count": 53,
   "id": "05d1bd80",
   "metadata": {},
   "outputs": [
    {
     "name": "stdout",
     "output_type": "stream",
     "text": [
      "There were errors in parsing dates. Please check your date/time format and values.\n",
      "       startDay startTime     endDay   endTime\n",
      "0        Monday  05:00:00  Wednesday  10:00:00\n",
      "1        Monday  10:00:00     Friday  15:00:00\n",
      "2      Thursday  15:00:00     Friday  19:00:00\n",
      "3        Monday  19:00:00     Friday  23:59:59\n",
      "4      Saturday  00:00:00     Sunday  23:59:59\n",
      "...         ...       ...        ...       ...\n",
      "39509    Monday  19:00:00     Friday  23:59:59\n",
      "39510  Saturday  00:00:00     Sunday  23:59:59\n",
      "39511  Saturday  00:00:00     Sunday  23:59:59\n",
      "39512    Monday  05:00:00  Wednesday  10:00:00\n",
      "39513    Monday  10:00:00     Friday  15:00:00\n",
      "\n",
      "[39514 rows x 4 columns]\n",
      "id       id_2    \n",
      "1014000  -1          True\n",
      "1014002  -1          True\n",
      "1014003  -1          True\n",
      "1030000  -1          True\n",
      "          1030002    True\n",
      "                     ... \n",
      "1330016   1330006    True\n",
      "          1330008    True\n",
      "          1330010    True\n",
      "          1330012    True\n",
      "          1330014    True\n",
      "Length: 9254, dtype: bool\n"
     ]
    }
   ],
   "source": [
    "date_format = \"%Y-%m-%d\" \n",
    "time_format = \"%H:%M:%S\" \n",
    "\n",
    "df['start'] = pd.to_datetime(df['startDay'] + ' ' + df['startTime'], format=f\"{date_format} {time_format}\", errors='coerce')\n",
    "df['end'] = pd.to_datetime(df['endDay'] + ' ' + df['endTime'], format=f\"{date_format} {time_format}\", errors='coerce')\n",
    "\n",
    "if df['start'].isnull().any() or df['end'].isnull().any():\n",
    "    print(\"There were errors in parsing dates. Please check your date/time format and values.\")\n",
    "    print(df[['startDay', 'startTime', 'endDay', 'endTime']][df['start'].isnull() | df['end'].isnull()])\n",
    "\n",
    "grouped = df.groupby(['id', 'id_2'])\n",
    "\n",
    "results = []\n",
    "\n",
    "# Define the starting date for the week\n",
    "starting_date = pd.Timestamp('2024-01-01')\n",
    "\n",
    "for (id_val, id_2_val), group in grouped:\n",
    "    days_covered = set()\n",
    "\n",
    "    for day_offset in range(7):\n",
    "        day_start = starting_date + pd.Timedelta(days=day_offset)\n",
    "        day_end = day_start + pd.Timedelta(days=1) - pd.Timedelta(seconds=1)\n",
    "\n",
    "        day_data = group[(group['start'] <= day_end) & (group['end'] >= day_start)]\n",
    "        \n",
    "        if not day_data.empty and (day_data['start'].min() <= day_start) and (day_data['end'].max() >= day_end):\n",
    "            days_covered.add(day_start.date())\n",
    "\n",
    "    all_days_covered = len(days_covered) == 7\n",
    "    full_24_hour_coverage = (group['end'].max() - group['start'].min()).total_seconds() >= 24 * 3600\n",
    "\n",
    "    results.append((id_val, id_2_val, not (all_days_covered and full_24_hour_coverage)))\n",
    "\n",
    "result_series = pd.Series({(id_val, id_2_val): incorrect for id_val, id_2_val, incorrect in results})\n",
    "result_series.index = pd.MultiIndex.from_tuples(result_series.index, names=['id', 'id_2'])\n",
    "\n",
    "print(result_series)"
   ]
  },
  {
   "cell_type": "code",
   "execution_count": null,
   "id": "51d28c94",
   "metadata": {},
   "outputs": [],
   "source": []
  }
 ],
 "metadata": {
  "kernelspec": {
   "display_name": "Python 3 (ipykernel)",
   "language": "python",
   "name": "python3"
  },
  "language_info": {
   "codemirror_mode": {
    "name": "ipython",
    "version": 3
   },
   "file_extension": ".py",
   "mimetype": "text/x-python",
   "name": "python",
   "nbconvert_exporter": "python",
   "pygments_lexer": "ipython3",
   "version": "3.11.5"
  }
 },
 "nbformat": 4,
 "nbformat_minor": 5
}
